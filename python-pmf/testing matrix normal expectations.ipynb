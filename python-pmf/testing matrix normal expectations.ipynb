{
 "metadata": {
  "name": "testing matrix normal expectations"
 },
 "nbformat": 3,
 "nbformat_minor": 0,
 "worksheets": [
  {
   "cells": [
    {
     "cell_type": "code",
     "collapsed": false,
     "input": [
      "%pylab inline"
     ],
     "language": "python",
     "metadata": {},
     "outputs": [
      {
       "output_type": "stream",
       "stream": "stdout",
       "text": [
        "\n",
        "Welcome to pylab, a matplotlib-based Python environment [backend: module://IPython.zmq.pylab.backend_inline].\n",
        "For more information, type 'help(pylab)'.\n"
       ]
      }
     ],
     "prompt_number": 1
    },
    {
     "cell_type": "code",
     "collapsed": false,
     "input": [
      "import numpy as np\n",
      "import scipy.linalg\n",
      "from matrix_normal_exps_cy import *"
     ],
     "language": "python",
     "metadata": {},
     "outputs": [],
     "prompt_number": 2
    },
    {
     "cell_type": "code",
     "collapsed": false,
     "input": [
      "def gen_mnormal(mean, sigma, omega, num):\n",
      "    n = sigma.shape[0]\n",
      "    p = omega.shape[0]\n",
      "    assert sigma.shape == (n, n)\n",
      "    assert omega.shape == (p, p)\n",
      "    \n",
      "    sigma_sqrt = np.real_if_close(scipy.linalg.sqrtm(sigma))\n",
      "    omega_sqrt = np.real_if_close(scipy.linalg.sqrtm(omega))\n",
      "    assert sigma_sqrt.dtype.kind == omega_sqrt.dtype.kind == 'f'\n",
      "\n",
      "    std = np.random.normal(size=(num, n, p))\n",
      "    return np.einsum('ij,ajk,kl', sigma_sqrt, std, omega_sqrt) + mean"
     ],
     "language": "python",
     "metadata": {},
     "outputs": [],
     "prompt_number": 3
    },
    {
     "cell_type": "code",
     "collapsed": false,
     "input": [
      "def gen_mnormal_dumb(mean, sigma, omega, num):\n",
      "    n = sigma.shape[0]\n",
      "    p = omega.shape[0]\n",
      "    assert sigma.shape == (n, n)\n",
      "    assert omega.shape == (p, p)\n",
      "    \n",
      "    cov = np.kron(sigma, omega)\n",
      "    samp_vecs = np.random.multivariate_normal(mean.ravel(order='F'), cov, size=num)\n",
      "    return np.rollaxis(samp_vecs.reshape(num, p, n), 2, 1)"
     ],
     "language": "python",
     "metadata": {},
     "outputs": [],
     "prompt_number": 4
    },
    {
     "cell_type": "code",
     "collapsed": false,
     "input": [
      "n = 8\n",
      "p = 15\n",
      "\n",
      "mean = np.random.normal(scale=5, size=(n, p))\n",
      "\n",
      "sigma = np.random.normal(scale=2, size=(n, n))\n",
      "sigma = np.linalg.inv(np.dot(sigma.T, sigma))\n",
      "\n",
      "omega = np.random.normal(scale=2, size=(p, p))\n",
      "omega = np.linalg.inv(np.dot(omega.T, omega))"
     ],
     "language": "python",
     "metadata": {},
     "outputs": [],
     "prompt_number": 5
    },
    {
     "cell_type": "code",
     "collapsed": false,
     "input": [
      "samps = gen_mnormal_dumb(mean, sigma, omega, 10000)"
     ],
     "language": "python",
     "metadata": {},
     "outputs": [],
     "prompt_number": 6
    },
    {
     "cell_type": "code",
     "collapsed": false,
     "input": [
      "np.max(abs(np.mean(samps, axis=0) - mean))"
     ],
     "language": "python",
     "metadata": {},
     "outputs": [
      {
       "output_type": "pyout",
       "prompt_number": 7,
       "text": [
        "0.0082947966404525175"
       ]
      }
     ],
     "prompt_number": 7
    },
    {
     "cell_type": "code",
     "collapsed": false,
     "input": [
      "hist(mean.ravel() - np.mean(samps, axis=0).ravel(), bins=20)\n",
      "None"
     ],
     "language": "python",
     "metadata": {},
     "outputs": [
      {
       "output_type": "display_data",
       "png": "[encoded data removed]"
      }
     ],
     "prompt_number": 8
    },
    {
     "cell_type": "code",
     "collapsed": false,
     "input": [
      "hist((np.cov(samps.reshape(samps.shape[0], -1, order='F'), rowvar=False) - np.kron(sigma, omega)).ravel(), bins=30, log=True)\n",
      "None"
     ],
     "language": "python",
     "metadata": {},
     "outputs": [
      {
       "output_type": "display_data",
       "png": "[encoded data removed]"
      }
     ],
     "prompt_number": 9
    },
    {
     "cell_type": "raw",
     "metadata": {},
     "source": []
    },
    {
     "cell_type": "code",
     "collapsed": false,
     "input": [
      "n, p"
     ],
     "language": "python",
     "metadata": {},
     "outputs": [
      {
       "output_type": "pyout",
       "prompt_number": 10,
       "text": [
        "(8, 15)"
       ]
      }
     ],
     "prompt_number": 10
    },
    {
     "cell_type": "code",
     "collapsed": false,
     "input": [
      "np.linalg.eigvalsh(sigma)"
     ],
     "language": "python",
     "metadata": {},
     "outputs": [
      {
       "output_type": "pyout",
       "prompt_number": 11,
       "text": [
        "array([ 0.01308309,  0.01927777,  0.03025308,  0.05602288,  0.06507859,\n",
        "        0.28563814,  0.33065889,  8.79174568])"
       ]
      }
     ],
     "prompt_number": 11
    },
    {
     "cell_type": "code",
     "collapsed": false,
     "input": [
      "np.linalg.eigvalsh(omega)"
     ],
     "language": "python",
     "metadata": {},
     "outputs": [
      {
       "output_type": "pyout",
       "prompt_number": 12,
       "text": [
        "array([ 0.00612209,  0.00721658,  0.00868435,  0.00989672,  0.01230488,\n",
        "        0.01695228,  0.01883617,  0.02875747,  0.03003539,  0.04664606,\n",
        "        0.06407244,  0.10169236,  0.23205617,  0.76215088,  2.23109762])"
       ]
      }
     ],
     "prompt_number": 12
    },
    {
     "cell_type": "code",
     "collapsed": false,
     "input": [
      "a = (3, 12)\n",
      "b = (3, 11)\n",
      "c = (3, 13)\n",
      "\n",
      "x = (slice(None),)\n",
      "exp = tripexpect(mean, sigma, omega, *(a + b + c))\n",
      "emp = np.mean(samps[x + a] * samps[x + b] * samps[x + c])\n",
      "print(\"{:<9.4}  {:<9.4}  {:.2%}\".format(exp, emp, (exp - emp) / emp))"
     ],
     "language": "python",
     "metadata": {},
     "outputs": [
      {
       "output_type": "stream",
       "stream": "stdout",
       "text": [
        "-119.0     -118.9     0.04%\n"
       ]
      }
     ],
     "prompt_number": 32
    },
    {
     "cell_type": "code",
     "collapsed": false,
     "input": [
      "a = (3, 12)\n",
      "b = (1, 11)\n",
      "c = (5, 11)\n",
      "d = (3, 14)\n",
      "\n",
      "x = (slice(None),)\n",
      "exp = quadexpect(mean, sigma, omega, *(a + b + c + d))\n",
      "emp = np.mean(samps[x + a] * samps[x + b] * samps[x + c] * samps[x + d])\n",
      "print(\"{:<9.4}  {:<9.4}  {:.2%}\".format(exp, emp, (exp - emp) / emp))"
     ],
     "language": "python",
     "metadata": {},
     "outputs": [
      {
       "output_type": "stream",
       "stream": "stdout",
       "text": [
        "-111.1     -110.4     0.68%\n"
       ]
      }
     ],
     "prompt_number": 33
    },
    {
     "cell_type": "code",
     "collapsed": false,
     "input": [
      "a = (3, 3)\n",
      "b = (4, 11)\n",
      "\n",
      "x = (slice(None),)\n",
      "exp = exp_squared(mean, sigma, omega, *(a + b))\n",
      "emp = np.mean(samps[x + a]**2 * samps[x + b]**2)\n",
      "print(\"{:<9.4}  {:<9.4}  {:.2%}\".format(exp, emp, (exp - emp) / emp))"
     ],
     "language": "python",
     "metadata": {},
     "outputs": [
      {
       "output_type": "stream",
       "stream": "stdout",
       "text": [
        "4.109e+03  4.084e+03  0.63%\n"
       ]
      }
     ],
     "prompt_number": 37
    },
    {
     "cell_type": "code",
     "collapsed": false,
     "input": [
      "a = (3, 12)\n",
      "b = (4, 11)\n",
      "c = (4, 13)\n",
      "\n",
      "x = (slice(None),)\n",
      "exp = exp_a2bc(mean, sigma, omega, *(a + b + c))\n",
      "emp = np.mean(samps[x + a]**2 * samps[x + b] * samps[x + c])\n",
      "print(\"{:<9.4}  {:<9.4}  {:.2%}\".format(exp, emp, (exp - emp) / emp))"
     ],
     "language": "python",
     "metadata": {},
     "outputs": [
      {
       "output_type": "stream",
       "stream": "stdout",
       "text": [
        "-246.0     -245.8     0.07%\n"
       ]
      }
     ],
     "prompt_number": 39
    }
   ],
   "metadata": {}
  }
 ]
}
{
 "metadata": {
  "name": "movielens-predictions"
 }, 
 "nbformat": 2, 
 "worksheets": [
  {
   "cells": [
    {
     "cell_type": "code", 
     "collapsed": true, 
     "input": [
      "from bayes_pmf import *", 
      "import pickle", 
      "import numpy as np", 
      "import scipy.stats"
     ], 
     "language": "python", 
     "outputs": [], 
     "prompt_number": 1
    }, 
    {
     "cell_type": "code", 
     "collapsed": false, 
     "input": [
      "bpmf = np.load('../results/movielens-samples/movielens_model.pkl')", 
      "u_samps = np.load('../results/movielens-samples/movielens_u_samps.npy')", 
      "v_samps = np.load('../results/movielens-samples/movielens_v_samps.npy')", 
      "samps = list(zip(u_samps, v_samps))"
     ], 
     "language": "python", 
     "outputs": [], 
     "prompt_number": 3
    }, 
    {
     "cell_type": "code", 
     "collapsed": true, 
     "input": [
      "import gzip", 
      "with gzip.open('../movielens-100k/ratings_matrix.npy.gz', 'rb') as f:", 
      "    real = np.load(f)", 
      "known = real != 0"
     ], 
     "language": "python", 
     "outputs": [], 
     "prompt_number": 4
    }, 
    {
     "cell_type": "code", 
     "collapsed": false, 
     "input": [
      "real.shape"
     ], 
     "language": "python", 
     "outputs": [
      {
       "output_type": "pyout", 
       "prompt_number": 17, 
       "text": [
        "(943, 1682)"
       ]
      }
     ], 
     "prompt_number": 17
    }, 
    {
     "cell_type": "code", 
     "collapsed": true, 
     "input": [
      "pred = bpmf.predict(samps)"
     ], 
     "language": "python", 
     "outputs": [], 
     "prompt_number": 7
    }, 
    {
     "cell_type": "code", 
     "collapsed": false, 
     "input": [
      "np.sqrt(np.mean((real[known] - pred[known]) ** 2))"
     ], 
     "language": "python", 
     "outputs": [
      {
       "output_type": "pyout", 
       "prompt_number": 8, 
       "text": [
        "0.71655242410636177"
       ]
      }
     ], 
     "prompt_number": 8
    }, 
    {
     "cell_type": "code", 
     "collapsed": false, 
     "input": [
      "np.sqrt(np.mean((real[known] - bpmf.predicted_matrix()[known]) ** 2))"
     ], 
     "language": "python", 
     "outputs": [
      {
       "output_type": "pyout", 
       "prompt_number": 9, 
       "text": [
        "1.0567626369246061"
       ]
      }
     ], 
     "prompt_number": 9
    }, 
    {
     "cell_type": "code", 
     "collapsed": false, 
     "input": [
      "item_avg = np.tile(np.mean(real, axis=0), (943, 1))", 
      "np.sqrt(np.mean((real[known] - item_avg[known]) ** 2))"
     ], 
     "language": "python", 
     "outputs": [
      {
       "output_type": "pyout", 
       "prompt_number": 16, 
       "text": [
        "3.0769045299676714"
       ]
      }
     ], 
     "prompt_number": 16
    }, 
    {
     "cell_type": "code", 
     "collapsed": true, 
     "input": [
      "# del u_samps, v_samps"
     ], 
     "language": "python", 
     "outputs": [], 
     "prompt_number": 6
    }, 
    {
     "cell_type": "code", 
     "collapsed": true, 
     "input": [
      "def get_preds(ij, samps):", 
      "    mean = bpmf.mean_rating", 
      "    get = lambda i, j: np.fromiter((np.dot(u[i], v[j]) + mean for u, v in samps), float, len(samps))", 
      "    if isinstance(ij, tuple) and len(ij) == 2 and isinstance(ij[0], int):", 
      "        return get(*ij)", 
      "    else:", 
      "        return [get(i, j) for i, j in ij]", 
      "    ", 
      "def plot_dist(ij, samps, normed=True, numbins=100, histtype='step', **kwargs):", 
      "    if 'bins' not in kwargs:", 
      "        kwargs['bins'] = [-1000] + list(np.linspace(-1, 7, numbins)) + [1000]", 
      "    kwargs['normed'] = normed", 
      "    kwargs['histtype'] = histtype", 
      "    ", 
      "    data = get_preds(ij, samps)", 
      "    hist(data, label=['{},{}'.format(*x) for x in ij], **kwargs)", 
      "    xlim(-1.5, 7.5)", 
      "    legend()"
     ], 
     "language": "python", 
     "outputs": [], 
     "prompt_number": 29
    }, 
    {
     "cell_type": "code", 
     "collapsed": false, 
     "input": [
      "idx = [(0,i) for i in range(5)]", 
      "clf(); plot_dist(idx, samps, numbins=100)", 
      "[x.filled() for x in scipy.stats.mstats.normaltest(get_preds(idx, samps), 1)]"
     ], 
     "language": "python", 
     "outputs": [
      {
       "output_type": "pyout", 
       "prompt_number": 109, 
       "text": [
        "[array([  2.00692367,   8.93446525,   1.10296937,   5.5085963 ,  11.39337549]),", 
        " array([ 0.36660811,  0.01147904,  0.57609386,  0.06365368,  0.00335707])]"
       ]
      }
     ], 
     "prompt_number": 109
    }, 
    {
     "cell_type": "code", 
     "collapsed": false, 
     "input": [
      "def check_normality(i, j, fignum=None):", 
      "    figure(fignum)", 
      "    clf()", 
      "    ", 
      "    ps = get_preds((i, j), samps)", 
      "    ", 
      "    # plot the histogram and the MLE normal's pdf", 
      "    subplot(121)", 
      "    plot_dist([(i, j)], samps, numbins=100)", 
      "    ", 
      "    mle = scipy.stats.norm(*scipy.stats.norm.fit(ps))", 
      "    pts = np.linspace(-1, 7, 200)", 
      "    plot(pts, mle.pdf(pts), c='r')", 
      "", 
      "    # plot the quantiles", 
      "    subplot(122)", 
      "    scipy.stats.probplot(ps, plot=plt)", 
      "", 
      "    # return p-value of being normal based on a D'Agistino/Pearson skew/kurtosis test", 
      "    return scipy.stats.mstats.normaltest(ps.reshape(-1, 1))[1][0]"
     ], 
     "language": "python", 
     "outputs": [], 
     "prompt_number": 30
    }, 
    {
     "cell_type": "code", 
     "collapsed": false, 
     "input": [
      "check_normality(12, 100, 2)"
     ], 
     "language": "python", 
     "outputs": [
      {
       "output_type": "pyout", 
       "prompt_number": 155, 
       "text": [
        "0.25800000270018114"
       ]
      }
     ], 
     "prompt_number": 155
    }, 
    {
     "cell_type": "code", 
     "collapsed": true, 
     "input": [
      "# this is slow!", 
      "import heapq", 
      "import itertools", 
      "most_nonnormal = heapq.nsmallest(10, itertools.product(range(bpmf.num_users), range(bpmf.num_items)),", 
      "                key=lambda ij: scipy.stats.mstats.normaltest(get_preds(ij, samps).reshape(-1,1))[1][0])"
     ], 
     "language": "python", 
     "outputs": [], 
     "prompt_number": 156
    }, 
    {
     "cell_type": "code", 
     "collapsed": false, 
     "input": [
      "most_nonnormal"
     ], 
     "language": "python", 
     "outputs": [
      {
       "output_type": "pyout", 
       "prompt_number": 157, 
       "text": [
        "[(278, 285),", 
        " (278, 182),", 
        " (278, 68),", 
        " (854, 1669),", 
        " (854, 1386),", 
        " (278, 14),", 
        " (854, 1390),", 
        " (550, 172),", 
        " (854, 1365),", 
        " (684, 1117)]"
       ]
      }
     ], 
     "prompt_number": 157
    }, 
    {
     "cell_type": "code", 
     "collapsed": false, 
     "input": [
      "suptitle(\"{}, {} - {:.4}\".format(138, 294, check_normality(138, 294, 23)))"
     ], 
     "language": "python", 
     "outputs": [
      {
       "output_type": "pyout", 
       "prompt_number": 37, 
       "text": [
        "&lt;matplotlib.text.Text at 0x107d7e090&gt;"
       ]
      }
     ], 
     "prompt_number": 37
    }, 
    {
     "cell_type": "code", 
     "collapsed": true, 
     "input": [
      "for idx, (i, j) in enumerate(most_nonnormal):", 
      "    err = check_normality(i, j, 10)", 
      "    suptitle(\"{}, {} - {:.4}\".format(i, j, err))", 
      "    savefig('../results/movielens-samples/most-nonnormal/{}.png'.format(idx))"
     ], 
     "language": "python", 
     "outputs": [], 
     "prompt_number": 215
    }
   ]
  }
 ]
}
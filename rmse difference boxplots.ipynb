{
 "metadata": {
  "name": "rmse difference boxplots"
 },
 "nbformat": 3,
 "nbformat_minor": 0,
 "worksheets": [
  {
   "cells": [
    {
     "cell_type": "code",
     "collapsed": false,
     "input": [
      "from plot_aucs import *\n",
      "from statsmodels.graphics.functional import fboxplot\n",
      "from glob import glob"
     ],
     "language": "python",
     "metadata": {},
     "outputs": [],
     "prompt_number": 2
    },
    {
     "cell_type": "code",
     "collapsed": false,
     "input": [
      "_, tenk_rmses = load_data(glob('results/10x10_discrete2_d2/run*/results_stan_s10000_nolookahead.pkl'), ret_rmse_traces=True)"
     ],
     "language": "python",
     "metadata": {},
     "outputs": [],
     "prompt_number": 7
    },
    {
     "cell_type": "code",
     "collapsed": false,
     "input": [
      "tenk_rmses.keys()"
     ],
     "language": "python",
     "metadata": {},
     "outputs": [
      {
       "output_type": "pyout",
       "prompt_number": 8,
       "text": [
        "dict_keys(['stan_pred', 'stan_prob-ge-3.5', 'stan_random', 'stan_pred-variance'])"
       ]
      }
     ],
     "prompt_number": 8
    },
    {
     "cell_type": "code",
     "collapsed": false,
     "input": [
      "def advantage_over_random(name, rmses):\n",
      "    random = np.asarray(next(v for k, v in rmses.items() if k.endswith('random')))\n",
      "    chosen = np.asarray(next(v for k, v in rmses.items() if k.endswith(name)))\n",
      "    return chosen - random"
     ],
     "language": "python",
     "metadata": {},
     "outputs": [],
     "prompt_number": 9
    },
    {
     "cell_type": "code",
     "collapsed": false,
     "input": [
      "pv_diffs = advantage_over_random('pred-variance', tenk_rmses)"
     ],
     "language": "python",
     "metadata": {},
     "outputs": [],
     "prompt_number": 11
    },
    {
     "cell_type": "code",
     "collapsed": false,
     "input": [
      "%pylab"
     ],
     "language": "python",
     "metadata": {},
     "outputs": [
      {
       "output_type": "stream",
       "stream": "stdout",
       "text": [
        "\n",
        "Welcome to pylab, a matplotlib-based Python environment [backend: Qt4Agg].\n",
        "For more information, type 'help(pylab)'.\n"
       ]
      }
     ],
     "prompt_number": 10
    },
    {
     "cell_type": "code",
     "collapsed": false,
     "input": [
      "fboxplot(pv_diffs)\n",
      "hlines(0, *xlim(), color='k', linewidth=2)"
     ],
     "language": "python",
     "metadata": {},
     "outputs": [
      {
       "output_type": "pyout",
       "prompt_number": 14,
       "text": [
        "<matplotlib.collections.LineCollection at 0x114801890>"
       ]
      }
     ],
     "prompt_number": 14
    }
   ],
   "metadata": {}
  }
 ]
}
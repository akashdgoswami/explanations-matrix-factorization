{
 "metadata": {
  "name": "bayes-plot-predictions"
 }, 
 "nbformat": 2, 
 "worksheets": [
  {
   "cells": [
    {
     "cell_type": "code", 
     "collapsed": true, 
     "input": [
      "from bayes_pmf import *", 
      "import pickle", 
      "from itertools import *"
     ], 
     "language": "python", 
     "outputs": [], 
     "prompt_number": 1
    }, 
    {
     "cell_type": "code", 
     "collapsed": true, 
     "input": [
      "d = pickle.load(open('../results/10x10_r4_d4_k4_K36/run0/data.pkl', 'rb'))", 
      "bpmf = BayesianPMF(d['_ratings'], 5)"
     ], 
     "language": "python", 
     "outputs": [], 
     "prompt_number": 2
    }, 
    {
     "cell_type": "code", 
     "collapsed": true, 
     "input": [
      "bpmf.fit()"
     ], 
     "language": "python", 
     "outputs": [], 
     "prompt_number": 3
    }, 
    {
     "cell_type": "code", 
     "collapsed": true, 
     "input": [
      "samps = list(islice(bpmf.samples(), 2000))", 
      "preds = [bpmf.predicted_matrix(u, v) for u, v in samps]"
     ], 
     "language": "python", 
     "outputs": [], 
     "prompt_number": 4
    }, 
    {
     "cell_type": "code", 
     "collapsed": true, 
     "input": [
      "def get_preds(ij, preds):", 
      "    if isinstance(ij, tuple) and len(ij) == 2 and isinstance(ij[0], int):", 
      "        return [p[ij] for p in preds]", 
      "    else:", 
      "        return [[p[x] for p in preds] for x in ij]", 
      "", 
      "def plot_dist(ij, preds, normed=True, histtype='step', **kwargs):", 
      "    if 'bins' not in kwargs:", 
      "        kwargs['bins'] = [-1000] + list(np.linspace(-1, 8, 50)) + [1000]", 
      "    kwargs['normed'] = normed", 
      "    kwargs['histtype'] = histtype", 
      "    ", 
      "    data = get_preds(ij, preds)", 
      "    hist(data, label=['{},{}'.format(*x) for x in ij], **kwargs)", 
      "    xlim(-1.5, 7.5)", 
      "    legend()"
     ], 
     "language": "python", 
     "outputs": [], 
     "prompt_number": 7
    }, 
    {
     "cell_type": "code", 
     "collapsed": true, 
     "input": [
      "figure(1); clf(); plot_dist([(0,0), (0,1), (1,0), (1,1), (4,3)], preds)"
     ], 
     "language": "python", 
     "outputs": [], 
     "prompt_number": 17
    }, 
    {
     "cell_type": "code", 
     "collapsed": false, 
     "input": [
      "figure(2); clf(); imshow(d['_real'], interpolation='nearest'); colorbar()"
     ], 
     "language": "python", 
     "outputs": [
      {
       "output_type": "pyout", 
       "prompt_number": 18, 
       "text": [
        "&lt;matplotlib.colorbar.Colorbar at 0x10c1a4050&gt;"
       ]
      }
     ], 
     "prompt_number": 18
    }, 
    {
     "cell_type": "code", 
     "collapsed": true, 
     "input": [
      "import random", 
      "bpmf2 = deepcopy(bpmf)", 
      "while len(bpmf2.unrated) > 50:", 
      "    i, j = random.choice(list(bpmf2.unrated))", 
      "    bpmf2.add_rating(i, j, d['_real'][i,j])"
     ], 
     "language": "python", 
     "outputs": [], 
     "prompt_number": 14
    }, 
    {
     "cell_type": "code", 
     "collapsed": true, 
     "input": [
      "sampler2 = bpmf2.samples()", 
      "samps2 = list(islice(sampler2, 2000))", 
      "preds2 = [bpmf2.predicted_matrix(u, v) for u, v in samps2]"
     ], 
     "language": "python", 
     "outputs": [], 
     "prompt_number": 16
    }, 
    {
     "cell_type": "code", 
     "collapsed": false, 
     "input": [
      "figure(2); clf(); imshow(d['_real'], interpolation='nearest'); colorbar()", 
      "i_s, j_s = np.transpose(list(bpmf2.rated))", 
      "scatter(j_s, i_s, c='white')"
     ], 
     "language": "python", 
     "outputs": [
      {
       "output_type": "pyout", 
       "prompt_number": 42, 
       "text": [
        "&lt;matplotlib.collections.PathCollection at 0x10ccb1490&gt;"
       ]
      }
     ], 
     "prompt_number": 42
    }, 
    {
     "cell_type": "code", 
     "collapsed": true, 
     "input": [
      "figure(3); clf(); plot_dist([(1,9)], preds2)"
     ], 
     "language": "python", 
     "outputs": [], 
     "prompt_number": 49
    }
   ]
  }
 ]
}

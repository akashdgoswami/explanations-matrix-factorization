{
 "metadata": {
  "name": "check-grad"
 },
 "nbformat": 3,
 "nbformat_minor": 0,
 "worksheets": [
  {
   "cells": [
    {
     "cell_type": "code",
     "collapsed": false,
     "input": [
      "%pylab inline"
     ],
     "language": "python",
     "metadata": {},
     "outputs": [
      {
       "output_type": "stream",
       "stream": "stdout",
       "text": [
        "\n",
        "Welcome to pylab, a matplotlib-based Python environment [backend: module://IPython.zmq.pylab.backend_inline].\n",
        "For more information, type 'help(pylab)'.\n"
       ]
      }
     ],
     "prompt_number": 1
    },
    {
     "cell_type": "code",
     "collapsed": true,
     "input": [
      "from copy import deepcopy\n",
      "import pickle\n",
      "\n",
      "import numpy as np\n",
      "from scipy.optimize import check_grad, approx_fprime\n",
      "import scipy.linalg\n",
      "\n",
      "import active_pmf\n",
      "import normal_exps as nexps\n",
      "import normal_exps_cy as nexps_cy\n",
      "import matrix_normal_exps_cy as mnexps_cy\n",
      "import mn_active_pmf\n",
      "import pmf_cy\n",
      "import pmf as pmf_pure"
     ],
     "language": "python",
     "metadata": {},
     "outputs": [],
     "prompt_number": 2
    },
    {
     "cell_type": "code",
     "collapsed": false,
     "input": [
      "data = pickle.load(open('../results/10x10_r4_d4_k4_K36/run1/data.pkl', 'rb'))"
     ],
     "language": "python",
     "metadata": {},
     "outputs": [],
     "prompt_number": 3
    },
    {
     "cell_type": "code",
     "collapsed": false,
     "input": [],
     "language": "python",
     "metadata": {},
     "outputs": []
    },
    {
     "cell_type": "code",
     "collapsed": true,
     "input": [
      "def stack_ll(u, v):\n",
      "    return np.hstack((u.reshape(-1), v.reshape(-1)))\n",
      "\n",
      "def unstack_ll(x, n, m, d):\n",
      "    return x[:n*d].reshape(n, d), x[n*d:].reshape(m, d)\n",
      "\n",
      "def ll(pmf):\n",
      "    n = pmf.num_users\n",
      "    m = pmf.num_items\n",
      "    d = pmf.latent_d\n",
      "    def inner(x):\n",
      "        return pmf.log_likelihood(*unstack_ll(x, n, m, d))\n",
      "    return inner\n",
      "\n",
      "def grad(pmf):\n",
      "    n = pmf.num_users\n",
      "    m = pmf.num_items\n",
      "    d = pmf.latent_d\n",
      "    a = deepcopy(pmf)\n",
      "    def inner(x):\n",
      "        a.users, a.items = unstack_ll(x, n, m, d)\n",
      "        return stack_ll(*a.gradient())\n",
      "    return inner"
     ],
     "language": "python",
     "metadata": {},
     "outputs": [],
     "prompt_number": 4
    },
    {
     "cell_type": "code",
     "collapsed": false,
     "input": [
      "for p in (pmf_pure, pmf_cy):\n",
      "    for sub_mean in (False, True):\n",
      "        pmf = p.ProbabilisticMatrixFactorization(data['_ratings'], 1, sub_mean)\n",
      "        x_ll = stack_ll(pmf.users, pmf.items)\n",
      "        print(check_grad(ll(pmf), grad(pmf), x_ll))"
     ],
     "language": "python",
     "metadata": {},
     "outputs": [
      {
       "output_type": "stream",
       "stream": "stdout",
       "text": [
        "1.90201301852e-06\n",
        "3.29453086977e-07\n",
        "1.88000559389e-06\n",
        "4.34644867091e-07\n"
       ]
      }
     ],
     "prompt_number": 5
    },
    {
     "cell_type": "code",
     "collapsed": true,
     "input": [
      "def stack_kl(mean, cov):\n",
      "    return np.hstack((mean, cov[np.triu_indices_from(cov)]))\n",
      "\n",
      "def unstack_kl(x, k):\n",
      "    cov = np.zeros((k,k))\n",
      "    cov[np.triu_indices_from(cov)] = x[k:]\n",
      "    cov += cov.T # symmetrize\n",
      "    cov[np.diag_indices_from(cov)] /= 2 # correct diagonal\n",
      "    return x[:k], cov\n",
      "\n",
      "def kl(apmf):\n",
      "    k = apmf.approx_dim\n",
      "    def inner(x):\n",
      "        mean, cov = unstack_kl(x, k)\n",
      "        if np.any(cov != cov.T) or np.any(scipy.linalg.eigvalsh(cov) <= 0):\n",
      "            raise ValueError(\"covariance must be positive definite\")\n",
      "        return apmf.kl_divergence(mean, cov)\n",
      "    return inner\n",
      "\n",
      "def grad_kl(apmf, norm_grad=nexps.normal_gradient):\n",
      "    k = apmf.approx_dim\n",
      "    a = deepcopy(apmf)\n",
      "    def inner(x):\n",
      "        a.mean, a.cov = unstack_kl(x, k)\n",
      "        return stack_kl(*norm_grad(a))\n",
      "    return inner"
     ],
     "language": "python",
     "metadata": {},
     "outputs": [],
     "prompt_number": 13
    },
    {
     "cell_type": "code",
     "collapsed": false,
     "input": [
      "# (to reload after changes)\n",
      "from imp import reload\n",
      "reload(nexps); reload(nexps_cy); reload(mnexps_cy)\n",
      "reload(pmf_pure); reload(pmf_cy)\n",
      "reload(active_pmf); reload(mn_active_pmf)"
     ],
     "language": "python",
     "metadata": {},
     "outputs": [
      {
       "output_type": "pyout",
       "prompt_number": 7,
       "text": [
        "<module 'mn_active_pmf' from './mn_active_pmf.py'>"
       ]
      }
     ],
     "prompt_number": 7
    },
    {
     "cell_type": "code",
     "collapsed": true,
     "input": [
      "apmf = active_pmf.ActivePMF(data['_ratings'], 2, data['_rating_vals'], True)\n",
      "apmf.initialize_approx()"
     ],
     "language": "python",
     "metadata": {},
     "outputs": [],
     "prompt_number": 49
    },
    {
     "cell_type": "code",
     "collapsed": false,
     "input": [
      "x_kl = stack_kl(apmf.mean, apmf.cov)\n",
      "check_grad(kl(apmf), grad_kl(apmf, nexps.normal_gradient), x_kl)"
     ],
     "language": "python",
     "metadata": {},
     "outputs": [
      {
       "output_type": "pyout",
       "prompt_number": 50,
       "text": [
        "544612.72465093376"
       ]
      }
     ],
     "prompt_number": 50
    },
    {
     "cell_type": "code",
     "collapsed": false,
     "input": [
      "approx = approx_fprime(x_kl, kl(apmf), np.sqrt(np.finfo(float).eps))\n",
      "calc = grad_kl(apmf, nexps_cy.normal_gradient)(x_kl)\n",
      "np.mean(np.abs((calc - approx) / calc))"
     ],
     "language": "python",
     "metadata": {},
     "outputs": [
      {
       "output_type": "pyout",
       "prompt_number": 51,
       "text": [
        "0.011605497601875188"
       ]
      }
     ],
     "prompt_number": 51
    },
    {
     "cell_type": "code",
     "collapsed": false,
     "input": [
      "c_mn, c_cov = unstack_kl(calc, apmf.approx_dim)\n",
      "a_mn, a_cov = unstack_kl(approx, apmf.approx_dim)"
     ],
     "language": "python",
     "metadata": {},
     "outputs": [],
     "prompt_number": 53
    },
    {
     "cell_type": "code",
     "collapsed": false,
     "input": [
      "np.abs(c_mn - a_mn).max(), np.abs((c_cov - a_mn) / c_cov).max()"
     ],
     "language": "python",
     "metadata": {},
     "outputs": [
      {
       "output_type": "pyout",
       "prompt_number": 58,
       "text": [
        "(3.7417839215958537e-06, 1.2704374784369086)"
       ]
      }
     ],
     "prompt_number": 58
    },
    {
     "cell_type": "code",
     "collapsed": false,
     "input": [
      "np.unravel_index(np.abs((c_cov - a_cov) / c_cov).argmax(), c_cov.shape)\n",
      "# NOTE: there has to be a bug in this gradient, it always has exactly 1 element pretty far off\n",
      "# but it's always a different element...\n",
      "# we're not doing anything with it right now anyway, so just ignore it. :("
     ],
     "language": "python",
     "metadata": {},
     "outputs": [
      {
       "output_type": "pyout",
       "prompt_number": 67,
       "text": [
        "(20, 27)"
       ]
      }
     ],
     "prompt_number": 67
    },
    {
     "cell_type": "code",
     "collapsed": false,
     "input": [
      "i = np.argmax(np.abs((calc - approx) / calc))\n",
      "i, calc[i], approx[i]"
     ],
     "language": "python",
     "metadata": {},
     "outputs": [
      {
       "output_type": "pyout",
       "prompt_number": 52,
       "text": [
        "(657, -8.1550564093142786, 3.1811294555664062)"
       ]
      }
     ],
     "prompt_number": 52
    },
    {
     "cell_type": "code",
     "collapsed": false,
     "input": [
      "hist((calc - approx) / calc, log=True, bins=50)\n",
      "None"
     ],
     "language": "python",
     "metadata": {},
     "outputs": [
      {
       "output_type": "display_data",
       "png": "[encoded data removed]"
      }
     ],
     "prompt_number": 59
    },
    {
     "cell_type": "code",
     "collapsed": false,
     "input": [],
     "language": "python",
     "metadata": {},
     "outputs": [],
     "prompt_number": 10
    },
    {
     "cell_type": "code",
     "collapsed": false,
     "input": [
      "def stack_mn_kl(mean, cov_useritems, cov_latents):\n",
      "    return np.hstack((mean.ravel(),\n",
      "                      cov_useritems[np.triu_indices_from(cov_useritems)],\n",
      "                      cov_latents[np.triu_indices_from(cov_latents)]))\n",
      "\n",
      "def _unstack_cov(vals, dim):\n",
      "    cov = np.zeros((dim, dim))\n",
      "    cov[np.triu_indices_from(cov)] = vals\n",
      "    cov += cov.T\n",
      "    cov[np.diag_indices_from(cov)] /= 2\n",
      "    return cov\n",
      "\n",
      "def unstack_mn_kl(x, n_useritems, latent_d):\n",
      "    num_mean = n_useritems * latent_d\n",
      "    num_useritems = n_useritems * (n_useritems + 1) // 2\n",
      "    num_latents = latent_d * (latent_d + 1) // 2\n",
      "    assert num_mean + num_useritems + num_latents == x.size, \\\n",
      "           (num_mean, num_useritems, num_latents, x.size)\n",
      "    \n",
      "    mean = x[:num_mean].reshape((n_useritems, latent_d))\n",
      "    cov_useritems = _unstack_cov(x[num_mean:-num_latents], n_useritems)\n",
      "    cov_latents = _unstack_cov(x[-num_latents:], latent_d)\n",
      "    return mean, cov_useritems, cov_latents\n",
      "\n",
      "def _check_cov(cov):\n",
      "    if np.any(cov != cov.T) or np.any(scipy.linalg.eigvalsh(cov) <= 0):\n",
      "       raise ValueError(\"covariance must be positive definite\")\n",
      "    \n",
      "def mn_kl(mn_apmf):\n",
      "    n_useritems = mn_apmf.num_users + mn_apmf.num_items\n",
      "    latent_d = mn_apmf.latent_d\n",
      "    def inner(x):\n",
      "        mean, cov_useritems, cov_latents = unstack_mn_kl(x, n_useritems, latent_d)\n",
      "        _check_cov(cov_useritems)\n",
      "        _check_cov(cov_latents)\n",
      "        return mn_apmf.kl_divergence(mean, cov_useritems, cov_latents)\n",
      "    return inner\n",
      "\n",
      "def grad_mn_kl(mn_apmf, norm_grad=mnexps_cy.matrixnormal_gradient):\n",
      "    n_useritems = mn_apmf.num_users + mn_apmf.num_items\n",
      "    a = deepcopy(mn_apmf)\n",
      "    def inner(x):\n",
      "        a.mean, a.cov_useritems, a.cov_latents = unstack_mn_kl(x, n_useritems, a.latent_d)\n",
      "        return stack_mn_kl(*norm_grad(a))\n",
      "    return inner"
     ],
     "language": "python",
     "metadata": {},
     "outputs": [],
     "prompt_number": 11
    },
    {
     "cell_type": "code",
     "collapsed": false,
     "input": [],
     "language": "python",
     "metadata": {},
     "outputs": [],
     "prompt_number": 11
    },
    {
     "cell_type": "code",
     "collapsed": false,
     "input": [
      "mnapmf = mn_active_pmf.MNActivePMF(data['_ratings'], 2, data['_rating_vals'], True)\n",
      "mnapmf.initialize_approx(random_cov=True)\n",
      "np.linalg.eigvalsh(mnapmf.cov_useritems), np.linalg.eigvalsh(mnapmf.cov_latents)"
     ],
     "language": "python",
     "metadata": {},
     "outputs": [
      {
       "output_type": "pyout",
       "prompt_number": 12,
       "text": [
        "(array([  2.86165711e-02,   2.58024536e-01,   8.46325976e-01,\n",
        "         1.18720349e+00,   1.93688690e+00,   2.47915613e+00,\n",
        "         4.63441990e+00,   7.97666656e+00,   8.78688373e+00,\n",
        "         1.02632909e+01,   1.27434221e+01,   1.60171246e+01,\n",
        "         2.38723209e+01,   2.83998679e+01,   3.60016854e+01,\n",
        "         4.18239086e+01,   4.71392493e+01,   4.97768746e+01,\n",
        "         5.74934570e+01,   8.37923782e+01]),\n",
        " array([ 0.14667314,  2.57315165]))"
       ]
      }
     ],
     "prompt_number": 12
    },
    {
     "cell_type": "code",
     "collapsed": false,
     "input": [],
     "language": "python",
     "metadata": {},
     "outputs": [],
     "prompt_number": 5
    },
    {
     "cell_type": "code",
     "collapsed": false,
     "input": [],
     "language": "python",
     "metadata": {},
     "outputs": [],
     "prompt_number": 5
    },
    {
     "cell_type": "code",
     "collapsed": false,
     "input": [
      "def quadexp(n_users, n_items, latent_d, i, j, k, l, mult=1):\n",
      "    n_useritems = n_users + n_items\n",
      "    j_ = n_users + j\n",
      "    def inner(x):\n",
      "        mean, cov_useritems, cov_latents = unstack_mn_kl(x, n_useritems, latent_d)\n",
      "        #cov_useritems = active_pmf.project_psd(cov_useritems, min_eig=1e-3)\n",
      "        #cov_latents = active_pmf.project_psd(cov_latents, min_eig=1e-3)\n",
      "        _check_cov(cov_useritems)\n",
      "        _check_cov(cov_latents)\n",
      "        return mnexps_cy.quadexpect(mean, cov_useritems, cov_latents,\n",
      "                                    i, k,  j_, k,  i, l,  j_, l) * mult\n",
      "    return inner\n",
      "\n",
      "def grad_quadexp(n_users, n_items, latent_d, i, j, k, l, mult=1):\n",
      "    n_useritems = n_users + n_items\n",
      "    def inner(x):\n",
      "        mean, cov_useritems, cov_latents = unstack_mn_kl(x, n_useritems, latent_d)\n",
      "        _check_cov(cov_useritems)\n",
      "        _check_cov(cov_latents)\n",
      "        g_mean = np.zeros_like(mean)\n",
      "        g_cov_useritems = np.zeros_like(cov_useritems)\n",
      "        g_cov_latents = np.zeros_like(cov_latents)\n",
      "        mnexps_cy._quadexp_grad(n_users, mean, cov_useritems, cov_latents,\n",
      "                                g_mean, g_cov_useritems, g_cov_latents,\n",
      "                                i, j, k, l, mult)\n",
      "        return stack_mn_kl(g_mean, g_cov_useritems, g_cov_latents)\n",
      "    return inner\n",
      "\n",
      "\n",
      "i = 4\n",
      "j = 1\n",
      "k = 0\n",
      "l = 1\n",
      "\n",
      "quad = quadexp(mnapmf.num_users, mnapmf.num_items, mnapmf.latent_d, i, j, k, l)\n",
      "g_quad = grad_quadexp(mnapmf.num_users, mnapmf.num_items, mnapmf.latent_d, i, j, k, l)\n",
      "\n",
      "x_mn_kl = stack_mn_kl(mnapmf.mean, mnapmf.cov_useritems, mnapmf.cov_latents)\n",
      "\n",
      "approx = approx_fprime(x_mn_kl, quad, np.sqrt(np.finfo(float).eps))\n",
      "calc = g_quad(x_mn_kl)\n",
      "\n",
      "idx = (calc != 0) | (approx != 0)\n",
      "np.vstack((# np.arange(approx.size)[idx], \n",
      "           approx[idx], calc[idx])).T"
     ],
     "language": "python",
     "metadata": {},
     "outputs": [
      {
       "output_type": "pyout",
       "prompt_number": 6,
       "text": [
        "array([[ -7.30491288e-01,  -7.30491296e-01],\n",
        "       [  4.15037178e-01,   4.15037177e-01],\n",
        "       [ -6.43390225e-01,  -6.43390223e-01],\n",
        "       [  3.75165543e-01,   3.75165537e-01],\n",
        "       [  2.75773592e-02,   2.75773565e-02],\n",
        "       [  4.16405657e-01,   4.16405656e-01],\n",
        "       [  2.48451680e-02,   2.48451702e-02],\n",
        "       [  2.58383406e+00,   2.58383406e+00],\n",
        "       [  3.03274678e+01,   3.03274627e+01],\n",
        "       [ -3.21550516e-01,  -3.21550520e-01]])"
       ]
      }
     ],
     "prompt_number": 6
    },
    {
     "cell_type": "code",
     "collapsed": false,
     "input": [],
     "language": "python",
     "metadata": {},
     "outputs": []
    },
    {
     "cell_type": "code",
     "collapsed": false,
     "input": [
      "def sqexp(n_users, n_items, latent_d, i, j, k, mult=1):\n",
      "    n_useritems = n_users + n_items\n",
      "    j_ = n_users + j\n",
      "    def inner(x):\n",
      "        mean, cov_useritems, cov_latents = unstack_mn_kl(x, n_useritems, latent_d)\n",
      "        #cov_useritems = active_pmf.project_psd(cov_useritems, min_eig=1e-3)\n",
      "        #cov_latents = active_pmf.project_psd(cov_latents, min_eig=1e-3)\n",
      "        _check_cov(cov_useritems)\n",
      "        _check_cov(cov_latents)\n",
      "        return mnexps_cy.exp_squared(mean, cov_useritems, cov_latents,\n",
      "                                    i, k,  j_, k) * mult\n",
      "    return inner\n",
      "\n",
      "def grad_sqexp(n_users, n_items, latent_d, i, j, k, mult=1):\n",
      "    n_useritems = n_users + n_items\n",
      "    def inner(x):\n",
      "        mean, cov_useritems, cov_latents = unstack_mn_kl(x, n_useritems, latent_d)\n",
      "        _check_cov(cov_useritems)\n",
      "        _check_cov(cov_latents)\n",
      "        g_mean = np.zeros_like(mean)\n",
      "        g_cov_useritems = np.zeros_like(cov_useritems)\n",
      "        g_cov_latents = np.zeros_like(cov_latents)\n",
      "        mnexps_cy._squareexp_grad(n_users, mean, cov_useritems, cov_latents,\n",
      "                                g_mean, g_cov_useritems, g_cov_latents,\n",
      "                                i, j, k, mult)\n",
      "        return stack_mn_kl(g_mean, g_cov_useritems, g_cov_latents)\n",
      "    return inner\n",
      "\n",
      "\n",
      "i = 4\n",
      "j = 1\n",
      "k = 0\n",
      "\n",
      "f = sqexp(mnapmf.num_users, mnapmf.num_items, mnapmf.latent_d, i, j, k, l)\n",
      "g = grad_sqexp(mnapmf.num_users, mnapmf.num_items, mnapmf.latent_d, i, j, k, l)\n",
      "\n",
      "x_mn_kl = stack_mn_kl(mnapmf.mean, mnapmf.cov_useritems, mnapmf.cov_latents)\n",
      "\n",
      "approx = approx_fprime(x_mn_kl, f, np.sqrt(np.finfo(float).eps))\n",
      "calc = g(x_mn_kl)\n",
      "\n",
      "idx = ((calc != 0) | (approx != 0)) & (np.isfinite(approx) | (calc != 0))\n",
      "np.vstack((# np.arange(approx.size)[idx], \n",
      "           approx[idx], calc[idx])).T"
     ],
     "language": "python",
     "metadata": {},
     "outputs": [
      {
       "output_type": "pyout",
       "prompt_number": 7,
       "text": [
        "array([[  3.05819198e-01,   3.05819192e-01],\n",
        "       [  3.02944732e-01,   3.02944728e-01],\n",
        "       [  1.17089413e-03,   1.17089465e-03],\n",
        "       [  3.57614830e-03,   3.57614861e-03],\n",
        "       [  1.15198269e-03,   1.15198183e-03],\n",
        "       [  1.03289435e+01,   1.03289384e+01]])"
       ]
      }
     ],
     "prompt_number": 7
    },
    {
     "cell_type": "code",
     "collapsed": false,
     "input": [],
     "language": "python",
     "metadata": {},
     "outputs": []
    },
    {
     "cell_type": "code",
     "collapsed": false,
     "input": [
      "x_mn_kl = stack_mn_kl(mnapmf.mean, mnapmf.cov_useritems, mnapmf.cov_latents)\n",
      "approx = approx_fprime(x_mn_kl, mn_kl(mnapmf), np.sqrt(np.finfo(float).eps))\n",
      "calc = grad_mn_kl(mnapmf, mnexps_cy.matrixnormal_gradient)(x_mn_kl)\n",
      "np.mean((np.abs((calc - approx) / calc))[calc != 0])"
     ],
     "language": "python",
     "metadata": {},
     "outputs": [
      {
       "output_type": "pyout",
       "prompt_number": 8,
       "text": [
        "0.00022125288265041368"
       ]
      }
     ],
     "prompt_number": 8
    },
    {
     "cell_type": "code",
     "collapsed": false,
     "input": [
      "np.max(np.abs((calc - approx) / calc))"
     ],
     "language": "python",
     "metadata": {},
     "outputs": [
      {
       "output_type": "pyout",
       "prompt_number": 9,
       "text": [
        "0.0065100444885730939"
       ]
      }
     ],
     "prompt_number": 9
    },
    {
     "cell_type": "code",
     "collapsed": false,
     "input": [
      "n_useritems = mnapmf.num_users + mnapmf.num_items\n",
      "np.transpose(np.triu_indices(mnapmf.latent_d)) \\\n",
      "    [250 - n_useritems * mnapmf.latent_d - n_useritems * (n_useritems + 1) // 2]"
     ],
     "language": "python",
     "metadata": {},
     "outputs": [
      {
       "output_type": "pyout",
       "prompt_number": 9,
       "text": [
        "array([0, 0])"
       ]
      }
     ],
     "prompt_number": 9
    },
    {
     "cell_type": "code",
     "collapsed": false,
     "input": [
      "hist((calc - approx)[calc != 0] / calc[calc != 0], log=True, bins=50)\n",
      "None"
     ],
     "language": "python",
     "metadata": {},
     "outputs": [
      {
       "output_type": "display_data",
       "png": "[encoded data removed]"
      }
     ],
     "prompt_number": 10
    },
    {
     "cell_type": "code",
     "collapsed": false,
     "input": [
      "c_mean, c_cov_useritems, c_cov_latents = unstack_mn_kl(calc, mnapmf.num_users+mnapmf.num_items, mnapmf.latent_d)\n",
      "a_mean, a_cov_useritems, a_cov_latents = unstack_mn_kl(approx, mnapmf.num_users+mnapmf.num_items, mnapmf.latent_d)\n",
      "np.dstack((a_cov_latents, c_cov_latents))"
     ],
     "language": "python",
     "metadata": {},
     "outputs": [
      {
       "output_type": "pyout",
       "prompt_number": 26,
       "text": [
        "array([[[  29248.43359375,  115653.41222713],\n",
        "        [ -22837.59375   ,  -22837.59416095]],\n",
        "\n",
        "       [[ -22837.59375   ,  -22837.59416095],\n",
        "        [   9126.04296875,   31558.51833908]]])"
       ]
      }
     ],
     "prompt_number": 26
    },
    {
     "cell_type": "code",
     "collapsed": false,
     "input": [
      "20*1 + 20 * 21 // 2 + 1 * 2 // 2"
     ],
     "language": "python",
     "metadata": {},
     "outputs": [
      {
       "output_type": "pyout",
       "prompt_number": 29,
       "text": [
        "231"
       ]
      }
     ],
     "prompt_number": 29
    }
   ],
   "metadata": {}
  }
 ]
}